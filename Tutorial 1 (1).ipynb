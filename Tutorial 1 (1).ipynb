{
 "cells": [
  {
   "cell_type": "markdown",
   "metadata": {},
   "source": [
    "# COMP1010 - Week 1 Tutorial"
   ]
  },
  {
   "cell_type": "markdown",
   "metadata": {},
   "source": [
    "## Introductions (15 mins)\n",
    "\n",
    "Let's go around the class and share a little bit about ourselves:\n",
    "\n",
    "* Your first name\n",
    "* Your pronouns, if you feel comfortable sharing them\n",
    "* Your degree\n",
    "* A fun fact about yourself"
   ]
  },
  {
   "attachments": {},
   "cell_type": "markdown",
   "metadata": {},
   "source": [
    "## Admin (10 mins)\n",
    "\n",
    "Explain a few important admin topics.\n",
    "\n",
    "* Points of contact:\n",
    "  1. Google (being able to find your own answers is extremely important as a\n",
    "     programmer)\n",
    "  2. Forum (make sure you mention the importance of asking good questions)\n",
    "  3. Organise a consultation (email your tutor or a course admin)\n",
    "  4. Contact a course administrator or the lecturer (cs1010@cse.unsw.edu.au)\n",
    "* Mental health is important\n",
    "  * Don't forget that your mental health is the most important thing\n",
    "  * Make sure you take the time to look after it\n",
    "  * If you're struggling to manage the workload of this course, let me know and\n",
    "    we can try to sort something out.\n",
    "  * Special consideration is there if you need for it\n",
    "* What's the course about?\n",
    "  * Learning how to think programmatically (a useful skill no matter your\n",
    "    profession)\n",
    "  * Getting a taste of software engineering\n",
    "  * Learning how to make simple web apps (using real-world technology)\n",
    "* Tutorials and labs\n",
    "  * In tutorials, we'll revisit the most important content from the lectures.\n",
    "    They're a great opportunity to ask questions about anything you don't quite\n",
    "    understand yet.\n",
    "  * In labs, you'll have time to work on lab work, and later in the term, on\n",
    "    your project too."
   ]
  },
  {
   "cell_type": "markdown",
   "metadata": {},
   "source": [
    "## Thinking like a computer (10 mins)\n",
    "\n",
    "Your tutor will do a class activity that demonstrates what it means to \n",
    "think like a computer.\n",
    "\n",
    "### Discussion questions\n",
    "\n",
    "At the end of the activity, discuss:\n",
    "\n",
    "1. Why did we just do this?\n",
    "2. What does this tell us about how computers work?\n",
    "3. How should we think while we program computers?"
   ]
  },
  {
   "cell_type": "markdown",
   "metadata": {},
   "source": [
    "## Writing simple programs (25 mins)\n",
    "\n",
    "Get your students to help you write these programs. As they get written,\n",
    "explain the concepts as they show up.\n",
    "\n",
    "### Hello world (3 mins)\n",
    "\n",
    "Write a program that says hello to the world! It should call the `print`\n",
    "function so that \"Hello world!\" is written to the output."
   ]
  },
  {
   "cell_type": "code",
   "execution_count": null,
   "metadata": {},
   "outputs": [],
   "source": [
    "# TODO: write some code"
   ]
  },
  {
   "cell_type": "markdown",
   "metadata": {},
   "source": [
    "#### Discussion questions\n",
    "\n",
    "* Why do we use the `print` function?\n",
    "\n",
    "Some fun trivia: *\"programmers often write a hello world program to*\n",
    "*make sure they have things set up correctly. Maybe when it comes time to set*\n",
    "*up your own system to run Python in a few weeks, you can write a hello world*\n",
    "*program?\"*"
   ]
  },
  {
   "cell_type": "markdown",
   "metadata": {},
   "source": [
    "### Hello people (5 mins)\n",
    "\n",
    "The Earth can't talk, silly! Let's adjust our program to say hi to whoever's\n",
    "using it.\n",
    "\n",
    "* Get input from a user\n",
    "* Say hi to them"
   ]
  },
  {
   "cell_type": "code",
   "execution_count": null,
   "metadata": {},
   "outputs": [],
   "source": [
    "# TODO: write some more code"
   ]
  },
  {
   "cell_type": "markdown",
   "metadata": {},
   "source": [
    "#### Discussion questions\n",
    "\n",
    "* Why do we provide a \"prompt\" parameter to the `input` function?\n",
    "* What is a variable, and why are we using it?"
   ]
  },
  {
   "cell_type": "markdown",
   "metadata": {},
   "source": [
    "### Calculations (5 mins)\n",
    "\n",
    "There's a common misconception that you need to be good at maths to be able to\n",
    "be good at programming. Let's prove it wrong by writing a program to figure out\n",
    "a few maths problems.\n",
    "\n",
    "#### Starter code"
   ]
  },
  {
   "cell_type": "code",
   "execution_count": null,
   "metadata": {},
   "outputs": [],
   "source": [
    "# Let's add 27 to their number\n",
    "number = 42  # TODO: Change this to get user input\n",
    "# TODO: add 27\n",
    "print(number, \"plus 27 is\", TODO)\n",
    "\n",
    "# Let's get a radius and figure out how big a circle would be\n",
    "radius = 3  # TODO: Change this to get user input too\n",
    "# TODO: calculate circumference\n",
    "print(\"A circle with radius\", radius, \"has a circumference\", TODO)"
   ]
  },
  {
   "cell_type": "markdown",
   "metadata": {},
   "source": [
    "Make sure students understand the use of variables, and the importance of\n",
    "converting between data types. Also consider mentioning the importance of good variable names."
   ]
  },
  {
   "cell_type": "markdown",
   "metadata": {},
   "source": [
    "Discussion questions:\n",
    "\n",
    "* What is a data type?\n",
    "* Why did we need to manually convert between the two data types?"
   ]
  },
  {
   "cell_type": "markdown",
   "metadata": {},
   "source": [
    "### Is even (7 mins)\n",
    "\n",
    "Introduce basic control flow using if statements. Write a program to get \n",
    "a number from a user and tell them if it's even."
   ]
  },
  {
   "cell_type": "code",
   "execution_count": null,
   "metadata": {},
   "outputs": [],
   "source": [
    "# TODO: write some code"
   ]
  },
  {
   "cell_type": "markdown",
   "metadata": {},
   "source": [
    "#### Discussion\n",
    "\n",
    "* What did we learn through writing both of these solutions?\n",
    "\n",
    "After not even a of week programming, you're already better than some \n",
    "people! Check out the\n",
    "[`is-even` library](https://github.com/samuelmarina/is-even) for a \n",
    "laugh. You can tell that it's a serious project, because the description \n",
    "says so."
   ]
  },
  {
   "cell_type": "markdown",
   "metadata": {},
   "source": [
    "### Make it true (5 mins)\n",
    "\n",
    "Consider the following code:"
   ]
  },
  {
   "cell_type": "code",
   "execution_count": null,
   "metadata": {},
   "outputs": [],
   "source": [
    "# Find a word that makes this program print \"You got it!\"\n",
    "word = \"TODO\"\n",
    "\n",
    "# Don't change the code below here\n",
    "# =======================\n",
    "\n",
    "if (\n",
    "    len(word) > 10\n",
    "    and len(word) < 50\n",
    "    or word.startswith(\"supe\")\n",
    "    and word.endswith(\"ous\")\n",
    "):\n",
    "    print(\"You got it!\")\n",
    "else:\n",
    "    print(\"Not quite, try again\")"
   ]
  },
  {
   "cell_type": "markdown",
   "metadata": {},
   "source": [
    "Work in a group to find some strings that makes the \n",
    "code print \"You got it\". They don't need to be real words, but bonus \n",
    "points if they are."
   ]
  },
  {
   "cell_type": "markdown",
   "metadata": {},
   "source": [
    "# Lab time!\n",
    "\n",
    "Now it's time for you to begin working on your labs!\n",
    "\n",
    "The first lab exercise contains instructions on getting set up. As a class,\n",
    "decide whether you want to walk through this as a group. If not, your tutor\n",
    "will still be very happy to help you!"
   ]
  }
 ],
 "metadata": {
  "kernelspec": {
   "display_name": "Python 3",
   "language": "python",
   "name": "python3"
  },
  "language_info": {
   "codemirror_mode": {
    "name": "ipython",
    "version": 3
   },
   "file_extension": ".py",
   "mimetype": "text/x-python",
   "name": "python",
   "nbconvert_exporter": "python",
   "pygments_lexer": "ipython3",
   "version": "3.11.7"
  },
  "orig_nbformat": 4,
  "vscode": {
   "interpreter": {
    "hash": "e7370f93d1d0cde622a1f8e1c04877d8463912d04d973331ad4851f04de6915a"
   }
  }
 },
 "nbformat": 4,
 "nbformat_minor": 2
}
