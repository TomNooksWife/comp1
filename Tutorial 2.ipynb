{
 "cells": [
  {
   "attachments": {},
   "cell_type": "markdown",
   "metadata": {},
   "source": [
    "# COMP1010 - Week 2 Tutorial\n",
    "\n",
    "Welcome to the second COMP1010 tutorial!"
   ]
  },
  {
   "attachments": {},
   "cell_type": "markdown",
   "metadata": {},
   "source": [
    "# Loops (10 minutes)\n",
    "\n",
    "Take a look at the following code."
   ]
  },
  {
   "cell_type": "code",
   "execution_count": null,
   "metadata": {},
   "outputs": [],
   "source": [
    "# inf => infinity\n",
    "lowest = float('inf')\n",
    "highest = float('-inf')\n",
    "total = 0\n",
    "\n",
    "first = float(input(\"Enter number 1: \"))\n",
    "if first < lowest:\n",
    "    lowest = first\n",
    "if first > highest:\n",
    "    highest = first\n",
    "total += first\n",
    "\n",
    "second = float(input(\"Enter number 2: \"))\n",
    "if second < lowest:\n",
    "    lowest = second\n",
    "if second > highest:\n",
    "    highest = second\n",
    "total += second\n",
    "\n",
    "third = float(input(\"Enter number 3: \"))\n",
    "if third < lowest:\n",
    "    lowest = third\n",
    "if third > highest:\n",
    "    highest = third\n",
    "total += third\n",
    "\n",
    "fourth = float(input(\"Enter number 4: \"))\n",
    "if fourth < lowest:\n",
    "    lowest = fourth\n",
    "if fourth > highest:\n",
    "    highest = fourth\n",
    "total += fourth\n",
    "\n",
    "fifth = float(input(\"Enter number 5: \"))\n",
    "if fifth < lowest:\n",
    "    lowest = fifth\n",
    "if fifth > highest:\n",
    "    highest = fifth\n",
    "total += fifth\n",
    "\n",
    "print(\"Highest:\", highest)\n",
    "print(\"Lowest:\", lowest)\n",
    "print(\"Average:\", total / 5)"
   ]
  },
  {
   "attachments": {},
   "cell_type": "markdown",
   "metadata": {},
   "source": [
    "## Discussion questions\n",
    "\n",
    "* What's wrong with this code?\n",
    "* How can we fix it?\n",
    "\n",
    "Rewrite the code to fix it."
   ]
  },
  {
   "cell_type": "code",
   "execution_count": null,
   "metadata": {},
   "outputs": [],
   "source": [
    "# TODO: Rewrite the code"
   ]
  },
  {
   "attachments": {},
   "cell_type": "markdown",
   "metadata": {},
   "source": [
    "# Shopping list (10 minutes)\n",
    "\n",
    "Let's write a shopping list. Get students to suggest items to add to the list."
   ]
  },
  {
   "cell_type": "code",
   "execution_count": null,
   "metadata": {},
   "outputs": [],
   "source": [
    "# TODO: Create a shopping list"
   ]
  },
  {
   "attachments": {},
   "cell_type": "markdown",
   "metadata": {},
   "source": [
    "Oops, we forgot the milk! Let's quickly add that to the end of the list."
   ]
  },
  {
   "cell_type": "code",
   "execution_count": null,
   "metadata": {},
   "outputs": [],
   "source": [
    "# TODO: Add milk to the list, quick before dad drives off to the store"
   ]
  },
  {
   "attachments": {},
   "cell_type": "markdown",
   "metadata": {},
   "source": [
    "What's the 3rd item on the list? Print it out."
   ]
  },
  {
   "cell_type": "code",
   "execution_count": null,
   "metadata": {},
   "outputs": [],
   "source": [
    "# TODO: Print the 3rd item"
   ]
  },
  {
   "attachments": {},
   "cell_type": "markdown",
   "metadata": {},
   "source": [
    "How about the 100th item? What do you think will happen when we try that?"
   ]
  },
  {
   "cell_type": "code",
   "execution_count": null,
   "metadata": {},
   "outputs": [],
   "source": [
    "# TODO: Print the 100th item"
   ]
  },
  {
   "attachments": {},
   "cell_type": "markdown",
   "metadata": {},
   "source": [
    "Now let's loop over it and print out each item."
   ]
  },
  {
   "cell_type": "code",
   "execution_count": null,
   "metadata": {},
   "outputs": [],
   "source": [
    "# TODO: Use a for loop to access each item in the list"
   ]
  },
  {
   "attachments": {},
   "cell_type": "markdown",
   "metadata": {},
   "source": [
    "But what if we want to number each item? Let's use `enumerate` to get the numbers as well."
   ]
  },
  {
   "cell_type": "code",
   "execution_count": null,
   "metadata": {},
   "outputs": [],
   "source": [
    "# TODO: Use enumerate to access items and their indexes"
   ]
  },
  {
   "attachments": {},
   "cell_type": "markdown",
   "metadata": {},
   "source": [
    "# Cooking (15 minutes)\n",
    "\n",
    "Now that we've bought all the items on our shopping list, let's come up with a few things we can cook with them!\n",
    "\n",
    "As a class, list some ideas:"
   ]
  },
  {
   "attachments": {},
   "cell_type": "markdown",
   "metadata": {},
   "source": [
    "TODO: List some ideas"
   ]
  },
  {
   "attachments": {},
   "cell_type": "markdown",
   "metadata": {},
   "source": [
    "There are a few properties of recipes that we need to store. As a class, let's come up with them and decide on the data type we need for each one. Try to make sure a variety of data types are used (`str`, `int`, `list`)."
   ]
  },
  {
   "attachments": {},
   "cell_type": "markdown",
   "metadata": {},
   "source": [
    "TODO: Define a data structure"
   ]
  },
  {
   "attachments": {},
   "cell_type": "markdown",
   "metadata": {},
   "source": [
    "But how can we store all this information in a way that makes sense? Let's use a dictionary to map between the names of the properties and the values.\n",
    "\n",
    "In the code block below, create a dictionary for a single dish and store it into the variable `dish`."
   ]
  },
  {
   "cell_type": "code",
   "execution_count": null,
   "metadata": {},
   "outputs": [],
   "source": [
    "# Todo create a dictionary for a dish"
   ]
  },
  {
   "cell_type": "markdown",
   "metadata": {},
   "source": [
    "# Recipe book (15 minutes)\n",
    "\n",
    "There is one other use for `dict`ionaries - fast lookups.\n",
    "\n",
    "Given the following recipes, create a dictionary to allow people to quickly\n",
    "look up a recipe based on its title."
   ]
  },
  {
   "cell_type": "code",
   "execution_count": null,
   "metadata": {},
   "outputs": [],
   "source": [
    "# Recipes\n",
    "\n",
    "recipe_1 = {\n",
    "    \"name\": \"Green eggs and ham\",\n",
    "    \"description\": \"I do not like them, Sam-I-Am. I do not like green eggs and ham.\",\n",
    "    \"prep_time\": 15,  # minutes\n",
    "    \"ingredients\": [\"green eggs\", \"ham\"],\n",
    "    \"method\": [\n",
    "        # No need to add the numbers -- lists are ordered, so the information\n",
    "        # is already there\n",
    "        \"Cook eggs\",\n",
    "        \"Add ham\",\n",
    "        \"Spend next 10 minutes trying to convince the protagonist to try them\",\n",
    "    ],\n",
    "    \"serves\": 2,\n",
    "}\n",
    "recipe_2 = {\n",
    "    \"name\": \"Bunnings snags\",\n",
    "    \"description\": \"Traditional Australian cuisine\",\n",
    "    \"prep_time\": 10,\n",
    "    \"ingredients\": [\"snags\", \"onions\", \"love\"],\n",
    "    \"method\": [\n",
    "        \"Go to bunnings\",\n",
    "        \"Buy snags\",\n",
    "        \"Yummy!\",\n",
    "    ],\n",
    "    \"serves\": 1,\n",
    "}\n",
    "recipe_3 = {\n",
    "    \"name\": \"Maddy's everything stew\",\n",
    "    \"description\": \"Maddy tried to cook too many things at once\",\n",
    "    \"prep_time\": 45,\n",
    "    \"ingredients\": [\n",
    "        \"pasta\",\n",
    "        \"tofu\",\n",
    "        \"rice\",\n",
    "        \"onion\",\n",
    "        \"capsicum\",\n",
    "        \"curry paste\",\n",
    "        \"garlic\",\n",
    "        \"chilli\",\n",
    "        \"lime leaves\",\n",
    "        \"and more\",\n",
    "    ],\n",
    "    \"method\": [\n",
    "        \"Add ingredients over time\",\n",
    "        \"Realise that this was a terrible mistake\",\n",
    "        \"Commit to it being too many different things and add pasta\",\n",
    "    ],\n",
    "    \"serves\": 5,\n",
    "}"
   ]
  },
  {
   "cell_type": "code",
   "execution_count": null,
   "metadata": {},
   "outputs": [],
   "source": [
    "# TODO: Create a dictionary to look up the recipes"
   ]
  },
  {
   "cell_type": "code",
   "execution_count": null,
   "metadata": {},
   "outputs": [],
   "source": [
    "# TODO: Write some code that asks the user for a recipe, and shows some info\n",
    "# if it exists in our database, or prints an error if not"
   ]
  },
  {
   "cell_type": "markdown",
   "metadata": {},
   "source": [
    "# Which data structure to use (10 minutes)\n",
    "\n",
    "In groups of 3, decide whether a list of a dictionary is better for each one of\n",
    "these data structures:\n",
    "\n",
    "* A contacts list\n",
    "* An English dictionary\n",
    "* A shuffled deck of cards\n",
    "* The information about an EdStem forum post\n",
    "* The set of all Wikipedia pages\n",
    "* The COMP1010 lab content, grouped by week\n",
    "* A database of the class's pets\n",
    "\n",
    "There isn't necessarily a right or wrong answer for each of these -- as long as\n",
    "you can justify your reasoning."
   ]
  },
  {
   "attachments": {},
   "cell_type": "markdown",
   "metadata": {},
   "source": [
    "# Recipe printing (10 minutes)\n",
    "\n",
    "As cool as our recipe book is, we can't really show it to anyone in this current state. \n",
    "Let's write a function to display the recipe to people!\n",
    "\n",
    "Your function should accept an input of a recipe dictionary (like those above),\n",
    "and print its information."
   ]
  },
  {
   "cell_type": "code",
   "execution_count": null,
   "metadata": {},
   "outputs": [],
   "source": [
    "# TODO: Write a function to print a recipe\n",
    "# It can show the recipe however you like, but it should print all the data\n",
    "# in the dictionary in a human-readable format."
   ]
  },
  {
   "attachments": {},
   "cell_type": "markdown",
   "metadata": {},
   "source": [
    "Run the code block above. Why did nothing happen?\n",
    "\n",
    "In the code block below, test the function by calling it with the dish \n",
    "from earlier:"
   ]
  },
  {
   "cell_type": "code",
   "execution_count": null,
   "metadata": {},
   "outputs": [],
   "source": [
    "# TODO: Test our recipe printer"
   ]
  },
  {
   "cell_type": "markdown",
   "metadata": {},
   "source": [
    "Functions can also produce return values. The code below asks the user about\n",
    "a recipe, before creating a recipe dictionary. Turn it into a function so it \n",
    "can be reused."
   ]
  },
  {
   "cell_type": "code",
   "execution_count": null,
   "metadata": {},
   "outputs": [],
   "source": [
    "name = input(\"What's cooking? \")\n",
    "description = input(\"How would you describe it? \")\n",
    "prep_time = int(input(\"How many minutes does it take? \"))\n",
    "# We split the ingredients and method using commas\n",
    "ingredients = input(\n",
    "    \"What are the ingredients? Comma-separated. \").split(\", \")\n",
    "method = input(\"What's the method? Comma-separated. \").split(\", \")\n",
    "serves = int(input(\"How many serves? \"))\n",
    "\n",
    "user_recipe = {\n",
    "    \"name\": name,\n",
    "    \"description\": description,\n",
    "    \"prep_time\": prep_time,\n",
    "    \"ingredients\": ingredients,\n",
    "    \"method\": method,\n",
    "    \"serves\": serves,\n",
    "}"
   ]
  },
  {
   "cell_type": "markdown",
   "metadata": {},
   "source": [
    "Now call that function to add to our recipe book using the recipes that users\n",
    "enter."
   ]
  },
  {
   "cell_type": "code",
   "execution_count": null,
   "metadata": {},
   "outputs": [],
   "source": [
    "# TODO: Use the read_recipe function to add 3 dishes to a dictionary"
   ]
  }
 ],
 "metadata": {
  "kernelspec": {
   "display_name": "Python 3",
   "language": "python",
   "name": "python3"
  },
  "language_info": {
   "codemirror_mode": {
    "name": "ipython",
    "version": 3
   },
   "file_extension": ".py",
   "mimetype": "text/x-python",
   "name": "python",
   "nbconvert_exporter": "python",
   "pygments_lexer": "ipython3",
   "version": "3.11.4"
  },
  "orig_nbformat": 4,
  "vscode": {
   "interpreter": {
    "hash": "e7370f93d1d0cde622a1f8e1c04877d8463912d04d973331ad4851f04de6915a"
   }
  }
 },
 "nbformat": 4,
 "nbformat_minor": 2
}
